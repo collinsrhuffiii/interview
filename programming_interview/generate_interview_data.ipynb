{
 "cells": [
  {
   "cell_type": "code",
   "execution_count": 3,
   "metadata": {},
   "outputs": [],
   "source": [
    "import json\n",
    "from pprint import pprint\n",
    "import random"
   ]
  },
  {
   "cell_type": "code",
   "execution_count": 4,
   "metadata": {},
   "outputs": [
    {
     "name": "stdout",
     "output_type": "stream",
     "text": [
      "[{'httpHeaders': [{'name': 'Date', 'value': 'Sun, 19 Jan 2020 19:58:04 GMT'},\n",
      "                  {'name': 'Server',\n",
      "                   'value': 'Apache/2.4.39 (Amazon) OpenSSL/1.0.2k-fips'},\n",
      "                  {'name': 'X-Amzn-Trace-Id',\n",
      "                   'value': 'Root=1-5e24b4cc-323845ea1cc8eced463cb7a7;'},\n",
      "                  {'name': 'Content-Type', 'value': 'text/html;charset=UTF-8'},\n",
      "                  {'name': 'Content-Length', 'value': '6303'},\n",
      "                  {'name': 'Set-Cookie',\n",
      "                   'value': 'JSESSIONID=2BCA4477FD021C9D2A78BAF4598D1D8C; '\n",
      "                            'Path=/; HttpOnly'},\n",
      "                  {'name': 'Vary', 'value': 'Accept-Encoding'},\n",
      "                  {'name': 'Connection', 'value': 'close'}],\n",
      "  'httpStatusCode': '200',\n",
      "  'httpStatusMessage': '',\n",
      "  'httpVersion': '1.1',\n",
      "  'ipv4': '3.133.76.2',\n",
      "  'port': '80',\n",
      "  'protocol': 'TCP'}]\n"
     ]
    }
   ],
   "source": [
    "http_keys = ['httpHeaders', 'httpStatusCode', 'httpStatusMessage', 'httpVersion']\n",
    "http_obs = []\n",
    "with open('http_test', 'r') as f:\n",
    "    for line in f:\n",
    "        d = json.loads(line)\n",
    "        http = {http_key: d[http_key] for http_key in http_keys}\n",
    "        http['ipv4'] = d['tlsEndpoint']['ip']['ipv4']\n",
    "        http['port'] = d['tlsEndpoint']['portNumber']\n",
    "        http['protocol'] = d['tlsEndpoint']['portProtocol']\n",
    "        http_obs.append(http)\n",
    "pprint(http_obs[:1])"
   ]
  },
  {
   "cell_type": "code",
   "execution_count": 6,
   "metadata": {},
   "outputs": [
    {
     "name": "stdout",
     "output_type": "stream",
     "text": [
      "[{'algorithms': {'data': [{'key': '56-bit-RC4', 'value': True},\n",
      "                          {'key': 'FIPS-140-1', 'value': False},\n",
      "                          {'key': '128-bit-RC4', 'value': True},\n",
      "                          {'key': '40-bit-RC4', 'value': True}]},\n",
      "  'ipv4': '13.115.141.24',\n",
      "  'levels': {'data': [{'key': 'Client Compatible', 'value': True}]},\n",
      "  'port': '3389',\n",
      "  'protocol': 'TCP',\n",
      "  'protocols': {'data': [{'key': 'CredSSP', 'value': False},\n",
      "                         {'key': 'SSL', 'value': True},\n",
      "                         {'key': 'NativeRDP', 'value': True}]}}]\n"
     ]
    }
   ],
   "source": [
    "rdp_keys = ['algorithms', 'levels', 'protocols']\n",
    "rdp_obs = []\n",
    "with open('rdp_test', 'r') as f:\n",
    "    for line in f:\n",
    "        d = json.loads(line)\n",
    "        rdp = {rdp_key: d[rdp_key] for rdp_key in rdp_keys if rdp_key in d}\n",
    "        rdp['ipv4'] = d['endpoint']['ip']['ipv4']\n",
    "        rdp['port'] = d['endpoint']['portNumber']\n",
    "        rdp['protocol'] = d['endpoint']['portProtocol']\n",
    "        rdp_obs.append(rdp)\n",
    "pprint(rdp_obs[:1])"
   ]
  },
  {
   "cell_type": "code",
   "execution_count": 7,
   "metadata": {},
   "outputs": [],
   "source": [
    "rand_ips = []\n",
    "for _ in range(1500):\n",
    "    ip = \".\".join(map(str, (random.randint(0, 255) for _ in range(4))))\n",
    "    rand_ips.append(ip)"
   ]
  },
  {
   "cell_type": "code",
   "execution_count": 8,
   "metadata": {},
   "outputs": [],
   "source": [
    "for i in range(500):\n",
    "    http_obs[i]['ipv4'] = rand_ips[i]\n",
    "    rdp_obs[i]['ipv4'] = rand_ips[i]\n",
    "for i in range(500, 1000):\n",
    "    http_obs[i]['ipv4'] = rand_ips[i]\n",
    "for i in range(500, 1000):\n",
    "    rdp_obs[i]['ipv4'] = rand_ips[i+500]"
   ]
  },
  {
   "cell_type": "code",
   "execution_count": 9,
   "metadata": {},
   "outputs": [],
   "source": [
    "obs = {}\n",
    "for http in http_obs:\n",
    "    obs[http['ipv4']] = {'http': http}\n",
    "for rdp in rdp_obs:\n",
    "    if rdp['ipv4'] in obs:\n",
    "        obs[rdp['ipv4']]['rdp'] = rdp\n",
    "    else:\n",
    "        obs[rdp['ipv4']] = {'rdp': rdp}"
   ]
  },
  {
   "cell_type": "code",
   "execution_count": 10,
   "metadata": {},
   "outputs": [
    {
     "name": "stdout",
     "output_type": "stream",
     "text": [
      "['192.31.68.255', '200.197.173.155', '63.161.232.91', '248.145.171.237', '109.239.245.111', '1.1.1.1']\n"
     ]
    }
   ],
   "source": [
    "matching_ips = []\n",
    "for ip, o in obs.items():\n",
    "    if 'rdp' in o:\n",
    "        for d in o['rdp']['protocols']['data']:\n",
    "            if d['key'] == 'CredSSP' and d['value'] == True:\n",
    "                if 'http' in o:\n",
    "                    for header in o['http']['httpHeaders']:\n",
    "                        if header['name'] == 'Server' and header['value'] == 'nginx':\n",
    "                            matching_ips.append(ip)\n",
    "                            \n",
    "ips_to_query = matching_ips + [rand_ips[501], rand_ips[1001], '1.1.1.1']\n",
    "print(ips_to_query)"
   ]
  },
  {
   "cell_type": "code",
   "execution_count": 11,
   "metadata": {},
   "outputs": [],
   "source": [
    "with open('http_interview.json', 'w+') as f:\n",
    "    for http in http_obs:\n",
    "        f.write(json.dumps(http))\n",
    "        f.write('\\n')\n",
    "with open('rdp_interview.json', 'w+') as f:\n",
    "    for rdp in rdp_obs:\n",
    "        f.write(json.dumps(rdp))\n",
    "        f.write('\\n')\n",
    "with open('ips_to_query.txt', 'w+') as f:\n",
    "    for ip in ips_to_query:\n",
    "        f.write(ip)\n",
    "        f.write('\\n')"
   ]
  },
  {
   "cell_type": "code",
   "execution_count": null,
   "metadata": {},
   "outputs": [],
   "source": []
  }
 ],
 "metadata": {
  "kernelspec": {
   "display_name": "Python 3",
   "language": "python",
   "name": "python3"
  },
  "language_info": {
   "codemirror_mode": {
    "name": "ipython",
    "version": 3
   },
   "file_extension": ".py",
   "mimetype": "text/x-python",
   "name": "python",
   "nbconvert_exporter": "python",
   "pygments_lexer": "ipython3",
   "version": "3.7.6"
  }
 },
 "nbformat": 4,
 "nbformat_minor": 4
}

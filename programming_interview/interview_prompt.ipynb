{
 "cells": [
  {
   "cell_type": "markdown",
   "metadata": {},
   "source": [
    "# Programming Interview\n",
    "## Task 1\n",
    "Combine the given lists of http and rdp observations into one data structure.\n",
    "## Task 2\n",
    "For the given list of IP addresses, print those that have both a rdp server that supports CredSSP and an http server that runs nginx."
   ]
  },
  {
   "cell_type": "code",
   "execution_count": 2,
   "metadata": {},
   "outputs": [],
   "source": [
    "import json\n",
    "from pprint import pprint"
   ]
  },
  {
   "cell_type": "code",
   "execution_count": 3,
   "metadata": {},
   "outputs": [
    {
     "name": "stdout",
     "output_type": "stream",
     "text": [
      "HTTP Observations\n",
      "[{'httpHeaders': [{'name': 'Date', 'value': 'Sun, 19 Jan 2020 19:58:04 GMT'},\n",
      "                  {'name': 'Server',\n",
      "                   'value': 'Apache/2.4.39 (Amazon) OpenSSL/1.0.2k-fips'},\n",
      "                  {'name': 'X-Amzn-Trace-Id',\n",
      "                   'value': 'Root=1-5e24b4cc-323845ea1cc8eced463cb7a7;'},\n",
      "                  {'name': 'Content-Type', 'value': 'text/html;charset=UTF-8'},\n",
      "                  {'name': 'Content-Length', 'value': '6303'},\n",
      "                  {'name': 'Set-Cookie',\n",
      "                   'value': 'JSESSIONID=2BCA4477FD021C9D2A78BAF4598D1D8C; '\n",
      "                            'Path=/; HttpOnly'},\n",
      "                  {'name': 'Vary', 'value': 'Accept-Encoding'},\n",
      "                  {'name': 'Connection', 'value': 'close'}],\n",
      "  'httpStatusCode': '200',\n",
      "  'httpStatusMessage': '',\n",
      "  'httpVersion': '1.1',\n",
      "  'ipv4': '14.151.67.62',\n",
      "  'port': '80',\n",
      "  'protocol': 'TCP'}]\n",
      "\n",
      "RDP Observations\n",
      "[{'algorithms': {'data': [{'key': '56-bit-RC4', 'value': True},\n",
      "                          {'key': 'FIPS-140-1', 'value': False},\n",
      "                          {'key': '128-bit-RC4', 'value': True},\n",
      "                          {'key': '40-bit-RC4', 'value': True}]},\n",
      "  'ipv4': '14.151.67.62',\n",
      "  'levels': {'data': [{'key': 'Client Compatible', 'value': True}]},\n",
      "  'port': '3389',\n",
      "  'protocol': 'TCP',\n",
      "  'protocols': {'data': [{'key': 'CredSSP', 'value': False},\n",
      "                         {'key': 'SSL', 'value': True},\n",
      "                         {'key': 'NativeRDP', 'value': True}]}}]\n",
      "\n",
      "IPs to query\n",
      "['192.31.68.255',\n",
      " '200.197.173.155',\n",
      " '63.161.232.91',\n",
      " '248.145.171.237',\n",
      " '109.239.245.111',\n",
      " '1.1.1.1']\n"
     ]
    }
   ],
   "source": [
    "http_observations = []\n",
    "with open('http_interview.json') as f:\n",
    "    for line in f:\n",
    "        http_observations.append(json.loads(line))\n",
    "        \n",
    "rdp_observations = []\n",
    "with open('rdp_interview.json') as f:\n",
    "    for line in f:\n",
    "        rdp_observations.append(json.loads(line))\n",
    "        \n",
    "ips_to_query = []\n",
    "with open('ips_to_query.txt') as f:\n",
    "    for line in f:\n",
    "        ips_to_query.append(line.strip())\n",
    "       \n",
    "print('HTTP Observations')\n",
    "pprint(http_observations[:1])\n",
    "print()\n",
    "print('RDP Observations')\n",
    "pprint(rdp_observations[:1])\n",
    "print()\n",
    "print('IPs to query')\n",
    "pprint(ips_to_query)"
   ]
  },
  {
   "cell_type": "code",
   "execution_count": null,
   "metadata": {},
   "outputs": [],
   "source": []
  }
 ],
 "metadata": {
  "kernelspec": {
   "display_name": "Python 3",
   "language": "python",
   "name": "python3"
  },
  "language_info": {
   "codemirror_mode": {
    "name": "ipython",
    "version": 3
   },
   "file_extension": ".py",
   "mimetype": "text/x-python",
   "name": "python",
   "nbconvert_exporter": "python",
   "pygments_lexer": "ipython3",
   "version": "3.7.6"
  }
 },
 "nbformat": 4,
 "nbformat_minor": 4
}

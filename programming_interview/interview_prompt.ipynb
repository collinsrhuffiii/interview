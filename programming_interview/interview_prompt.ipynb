{
  "nbformat": 4,
  "nbformat_minor": 0,
  "metadata": {
    "kernelspec": {
      "display_name": "Python 3",
      "language": "python",
      "name": "python3"
    },
    "language_info": {
      "codemirror_mode": {
        "name": "ipython",
        "version": 3
      },
      "file_extension": ".py",
      "mimetype": "text/x-python",
      "name": "python",
      "nbconvert_exporter": "python",
      "pygments_lexer": "ipython3",
      "version": "3.7.6"
    },
    "colab": {
      "name": "interview_prompt.ipynb",
      "provenance": [],
      "include_colab_link": true
    }
  },
  "cells": [
    {
      "cell_type": "markdown",
      "metadata": {
        "id": "view-in-github",
        "colab_type": "text"
      },
      "source": [
        "<a href=\"https://colab.research.google.com/github/collinsrhuffiii/interview/blob/master/programming_interview/interview_prompt.ipynb\" target=\"_parent\"><img src=\"https://colab.research.google.com/assets/colab-badge.svg\" alt=\"Open In Colab\"/></a>"
      ]
    },
    {
      "cell_type": "markdown",
      "metadata": {
        "id": "e-YPx5x72vPi",
        "colab_type": "text"
      },
      "source": [
        "# Programming Interview\n",
        "\n",
        "## Instructions\n",
        "1. Copy to Drive (File->Save a copy in Drive)\n",
        "2. Open the saved copy in Drive\n",
        "3. Click share on the top right\n",
        "4. Click \"Get shareable link\" in the top right of the dialog box \n",
        "5. Change the permissions by clicking on the drop-down menu to the left of \"Copy link\". Select \"More->Anyone with this link\"\n",
        "7. Copy and Paste the shareable link into the Zoom chat\n",
        "8. Complete the tasks listed below\n",
        "9. Save your work\n",
        "\n",
        "## Task 1\n",
        "Combine the given lists of http and rdp observations into one data structure.\n",
        "## Task 2\n",
        "For the given list of IP addresses, print those that have both a rdp server that supports CredSSP and an http server that runs nginx."
      ]
    },
    {
      "cell_type": "code",
      "metadata": {
        "id": "QX7fDOpJ2wmP",
        "colab_type": "code",
        "outputId": "9fcec239-46ef-4845-ce4e-de98080c6bf4",
        "colab": {
          "base_uri": "https://localhost:8080/",
          "height": 578
        }
      },
      "source": [
        "!wget https://raw.githubusercontent.com/collinsrhuffiii/interview/master/programming_interview/http_interview.json\n",
        "!wget https://raw.githubusercontent.com/collinsrhuffiii/interview/master/programming_interview/rdp_interview.json\n",
        "!wget https://raw.githubusercontent.com/collinsrhuffiii/interview/master/programming_interview/ips_to_query.txt"
      ],
      "execution_count": 0,
      "outputs": [
        {
          "output_type": "stream",
          "text": [
            "--2020-03-11 13:50:24--  https://raw.githubusercontent.com/collinsrhuffiii/interview/master/programming_interview/http_interview.json?token=AEAWTKE2MJHOZQDYO2KUZVS6OITB4\n",
            "Resolving raw.githubusercontent.com (raw.githubusercontent.com)... 151.101.0.133, 151.101.64.133, 151.101.128.133, ...\n",
            "Connecting to raw.githubusercontent.com (raw.githubusercontent.com)|151.101.0.133|:443... connected.\n",
            "HTTP request sent, awaiting response... 200 OK\n",
            "Length: 547353 (535K) [text/plain]\n",
            "Saving to: ‘http_interview.json?token=AEAWTKE2MJHOZQDYO2KUZVS6OITB4.1’\n",
            "\n",
            "\r          http_inte   0%[                    ]       0  --.-KB/s               \rhttp_interview.json 100%[===================>] 534.52K  --.-KB/s    in 0.06s   \n",
            "\n",
            "2020-03-11 13:50:24 (8.33 MB/s) - ‘http_interview.json?token=AEAWTKE2MJHOZQDYO2KUZVS6OITB4.1’ saved [547353/547353]\n",
            "\n",
            "--2020-03-11 13:50:25--  https://raw.githubusercontent.com/collinsrhuffiii/interview/master/programming_interview/rdp_interview.json?token=AEAWTKHFCPQQMSCUS73HRV26OITD6\n",
            "Resolving raw.githubusercontent.com (raw.githubusercontent.com)... 151.101.0.133, 151.101.64.133, 151.101.128.133, ...\n",
            "Connecting to raw.githubusercontent.com (raw.githubusercontent.com)|151.101.0.133|:443... connected.\n",
            "HTTP request sent, awaiting response... 200 OK\n",
            "Length: 433274 (423K) [text/plain]\n",
            "Saving to: ‘rdp_interview.json?token=AEAWTKHFCPQQMSCUS73HRV26OITD6.1’\n",
            "\n",
            "rdp_interview.json? 100%[===================>] 423.12K  --.-KB/s    in 0.06s   \n",
            "\n",
            "2020-03-11 13:50:25 (6.74 MB/s) - ‘rdp_interview.json?token=AEAWTKHFCPQQMSCUS73HRV26OITD6.1’ saved [433274/433274]\n",
            "\n",
            "--2020-03-11 13:50:26--  https://raw.githubusercontent.com/collinsrhuffiii/interview/master/programming_interview/ips_to_query.txt?token=AEAWTKEZP4Z7P7JD3LKDIA26OITFM\n",
            "Resolving raw.githubusercontent.com (raw.githubusercontent.com)... 151.101.0.133, 151.101.64.133, 151.101.128.133, ...\n",
            "Connecting to raw.githubusercontent.com (raw.githubusercontent.com)|151.101.0.133|:443... connected.\n",
            "HTTP request sent, awaiting response... 200 OK\n",
            "Length: 84 [text/plain]\n",
            "Saving to: ‘ips_to_query.txt?token=AEAWTKEZP4Z7P7JD3LKDIA26OITFM.1’\n",
            "\n",
            "ips_to_query.txt?to 100%[===================>]      84  --.-KB/s    in 0s      \n",
            "\n",
            "2020-03-11 13:50:26 (16.0 MB/s) - ‘ips_to_query.txt?token=AEAWTKEZP4Z7P7JD3LKDIA26OITFM.1’ saved [84/84]\n",
            "\n"
          ],
          "name": "stdout"
        }
      ]
    },
    {
      "cell_type": "code",
      "metadata": {
        "id": "4op_MvZP2vPl",
        "colab_type": "code",
        "colab": {}
      },
      "source": [
        "import json\n",
        "from pprint import pprint"
      ],
      "execution_count": 0,
      "outputs": []
    },
    {
      "cell_type": "code",
      "metadata": {
        "id": "iqajs9Gw2vPp",
        "colab_type": "code",
        "outputId": "055a50e6-bfbb-4aa9-d89e-2b480fb106d0",
        "colab": {}
      },
      "source": [
        "http_observations = []\n",
        "with open('http_interview.json') as f:\n",
        "    for line in f:\n",
        "        http_observations.append(json.loads(line))\n",
        "        \n",
        "rdp_observations = []\n",
        "with open('rdp_interview.json') as f:\n",
        "    for line in f:\n",
        "        rdp_observations.append(json.loads(line))\n",
        "        \n",
        "ips_to_query = []\n",
        "with open('ips_to_query.txt') as f:\n",
        "    for line in f:\n",
        "        ips_to_query.append(line.strip())\n",
        "       \n",
        "print('HTTP Observations')\n",
        "pprint(http_observations[:1])\n",
        "print()\n",
        "print('RDP Observations')\n",
        "pprint(rdp_observations[:1])\n",
        "print()\n",
        "print('IPs to query')\n",
        "pprint(ips_to_query)"
      ],
      "execution_count": 0,
      "outputs": [
        {
          "output_type": "stream",
          "text": [
            "HTTP Observations\n",
            "[{'httpHeaders': [{'name': 'Date', 'value': 'Sun, 19 Jan 2020 19:58:04 GMT'},\n",
            "                  {'name': 'Server',\n",
            "                   'value': 'Apache/2.4.39 (Amazon) OpenSSL/1.0.2k-fips'},\n",
            "                  {'name': 'X-Amzn-Trace-Id',\n",
            "                   'value': 'Root=1-5e24b4cc-323845ea1cc8eced463cb7a7;'},\n",
            "                  {'name': 'Content-Type', 'value': 'text/html;charset=UTF-8'},\n",
            "                  {'name': 'Content-Length', 'value': '6303'},\n",
            "                  {'name': 'Set-Cookie',\n",
            "                   'value': 'JSESSIONID=2BCA4477FD021C9D2A78BAF4598D1D8C; '\n",
            "                            'Path=/; HttpOnly'},\n",
            "                  {'name': 'Vary', 'value': 'Accept-Encoding'},\n",
            "                  {'name': 'Connection', 'value': 'close'}],\n",
            "  'httpStatusCode': '200',\n",
            "  'httpStatusMessage': '',\n",
            "  'httpVersion': '1.1',\n",
            "  'ipv4': '14.151.67.62',\n",
            "  'port': '80',\n",
            "  'protocol': 'TCP'}]\n",
            "\n",
            "RDP Observations\n",
            "[{'algorithms': {'data': [{'key': '56-bit-RC4', 'value': True},\n",
            "                          {'key': 'FIPS-140-1', 'value': False},\n",
            "                          {'key': '128-bit-RC4', 'value': True},\n",
            "                          {'key': '40-bit-RC4', 'value': True}]},\n",
            "  'ipv4': '14.151.67.62',\n",
            "  'levels': {'data': [{'key': 'Client Compatible', 'value': True}]},\n",
            "  'port': '3389',\n",
            "  'protocol': 'TCP',\n",
            "  'protocols': {'data': [{'key': 'CredSSP', 'value': False},\n",
            "                         {'key': 'SSL', 'value': True},\n",
            "                         {'key': 'NativeRDP', 'value': True}]}}]\n",
            "\n",
            "IPs to query\n",
            "['192.31.68.255',\n",
            " '200.197.173.155',\n",
            " '63.161.232.91',\n",
            " '248.145.171.237',\n",
            " '109.239.245.111',\n",
            " '1.1.1.1']\n"
          ],
          "name": "stdout"
        }
      ]
    },
    {
      "cell_type": "code",
      "metadata": {
        "id": "Horgiin02vPs",
        "colab_type": "code",
        "colab": {}
      },
      "source": [
        ""
      ],
      "execution_count": 0,
      "outputs": []
    }
  ]
}